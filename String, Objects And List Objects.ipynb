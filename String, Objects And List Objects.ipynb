{
 "cells": [
  {
   "cell_type": "markdown",
   "metadata": {},
   "source": [
    "# 1. Create the below pattern using nested for loops in python:\n",
    "    \n",
    "    *\n",
    "    * *\n",
    "    * * *\n",
    "    * * * *\n",
    "    * * * * *\n",
    "    * * * *\n",
    "    * * *\n",
    "    * *\n",
    "    *"
   ]
  },
  {
   "cell_type": "code",
   "execution_count": 11,
   "metadata": {},
   "outputs": [
    {
     "name": "stdout",
     "output_type": "stream",
     "text": [
      "* \n",
      "\n",
      "* * \n",
      "\n",
      "* * * \n",
      "\n",
      "* * * * \n",
      "\n",
      "* * * * * \n",
      "\n",
      "* * * * \n",
      "\n",
      "* * * \n",
      "\n",
      "* * \n",
      "\n",
      "* \n",
      "\n"
     ]
    }
   ],
   "source": [
    "for i in range(1,10):\n",
    "    if i < 6:\n",
    "        for j in range (0,i):\n",
    "            print(\"*\", end=\" \")\n",
    "    else:\n",
    "        for j in range (i,10):\n",
    "             print(\"*\", end=\" \")\n",
    "    print(\"\\n\")"
   ]
  },
  {
   "cell_type": "markdown",
   "metadata": {},
   "source": [
    "# 2. Write a Python program to reverse a word after accepting the input from the user.\n",
    "\n",
    "Input word: ineuron\n",
    "Output: norueni"
   ]
  },
  {
   "cell_type": "code",
   "execution_count": 14,
   "metadata": {},
   "outputs": [
    {
     "name": "stdout",
     "output_type": "stream",
     "text": [
      "Enter a string: ineuron\n",
      "Input word:  ineuron\n",
      "Output word:  norueni\n"
     ]
    }
   ],
   "source": [
    "str = input(\"Enter a string: \")\n",
    "print(\"Input word: \", str)\n",
    "print(\"Output word: \",str[::-1])"
   ]
  },
  {
   "cell_type": "code",
   "execution_count": null,
   "metadata": {},
   "outputs": [],
   "source": []
  }
 ],
 "metadata": {
  "kernelspec": {
   "display_name": "Python 3",
   "language": "python",
   "name": "python3"
  },
  "language_info": {
   "codemirror_mode": {
    "name": "ipython",
    "version": 3
   },
   "file_extension": ".py",
   "mimetype": "text/x-python",
   "name": "python",
   "nbconvert_exporter": "python",
   "pygments_lexer": "ipython3",
   "version": "3.8.5"
  }
 },
 "nbformat": 4,
 "nbformat_minor": 4
}
